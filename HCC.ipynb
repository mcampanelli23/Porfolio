{
  "nbformat": 4,
  "nbformat_minor": 0,
  "metadata": {
    "colab": {
      "name": "HCC.ipynb",
      "provenance": [],
      "toc_visible": true
    },
    "kernelspec": {
      "name": "python3",
      "display_name": "Python 3"
    },
    "language_info": {
      "name": "python"
    }
  },
  "cells": [
    {
      "cell_type": "markdown",
      "source": [
        "# HCC data assighnment"
      ],
      "metadata": {
        "id": "Lzq5T4J-XbCN"
      }
    },
    {
      "cell_type": "code",
      "execution_count": null,
      "metadata": {
        "id": "bSGVjZdfNYdG"
      },
      "outputs": [],
      "source": [
        "import pandas as pd"
      ]
    },
    {
      "cell_type": "code",
      "source": [
        "import seaborn as sns"
      ],
      "metadata": {
        "id": "iWsDilQyOAW_"
      },
      "execution_count": null,
      "outputs": []
    },
    {
      "cell_type": "code",
      "source": [
        "import numpy as np"
      ],
      "metadata": {
        "id": "9jv3aYVcODGx"
      },
      "execution_count": null,
      "outputs": []
    },
    {
      "cell_type": "markdown",
      "source": [
        "# Q1 Importing dataset"
      ],
      "metadata": {
        "id": "Tsd47lWs18k5"
      }
    },
    {
      "cell_type": "code",
      "source": [
        "df = pd.read_csv('/content/Test_DataCore.csv')\n",
        "# CREATE TABLE PATIENT(\n",
        "#     PATIENT_ID VARCHAR(255),\n",
        "#     VISIT_ID VARCHAR(255),\n",
        "#     ADMISSION_DATE DATE,\n",
        "#     DISCHARGER_DATE DATE,\n",
        "#     CLINIC_CODE VARCHAR(255),\n",
        "#     BIRTHDATE DATE,\n",
        "#     SEX VARCHAR(255),\n",
        "#     RACE VARCHAR(255),\n",
        "#     DATE_OF_BIRTH DATE,\n",
        "#     VISIT_ACTIVATION_DATE_TIME DATE,\n",
        "#     DISCHARGE_TYPE VARCHAR(255),\n",
        "#     FACILITY VARCHAR(255),\n",
        "#     VISIT_STATUS VARCHAR(255),\n",
        "#     PRIMARY_KEY (PATIENT_ID))\n",
        "\n",
        "# COPY PATIENT (PATIENT_ID, VISIT_ID, ADMISSION_DATE, DISCHARGE_DATE, CLINIC_CODE, \n",
        "#     BIRTHDATE, SEX, RACE, DATE_OF_BIRTH, VISIT_ACTIVATION_DATE_TIME, DISCHARGE TYPE,\n",
        "#     FACILITY, VISIT_STATUS)\n",
        "# FROM 'C:/MIKE C/DOWNLOADS/TestDatacore.csv' \n",
        "# DELIMITER ',' HEADER PATIENT DATA"
      ],
      "metadata": {
        "id": "EuMrov-VOFWE"
      },
      "execution_count": null,
      "outputs": []
    },
    {
      "cell_type": "code",
      "source": [
        "df.head(5)\n",
        "## Looking at data"
      ],
      "metadata": {
        "colab": {
          "base_uri": "https://localhost:8080/",
          "height": 322
        },
        "id": "Qz2t5wPwOMBC",
        "outputId": "a012a4a1-ce00-41d5-c8ab-138a69e120ef"
      },
      "execution_count": null,
      "outputs": [
        {
          "output_type": "execute_result",
          "data": {
            "text/html": [
              "\n",
              "  <div id=\"df-6cdc4b01-0d7b-43f8-bbac-9c36969edb21\">\n",
              "    <div class=\"colab-df-container\">\n",
              "      <div>\n",
              "<style scoped>\n",
              "    .dataframe tbody tr th:only-of-type {\n",
              "        vertical-align: middle;\n",
              "    }\n",
              "\n",
              "    .dataframe tbody tr th {\n",
              "        vertical-align: top;\n",
              "    }\n",
              "\n",
              "    .dataframe thead th {\n",
              "        text-align: right;\n",
              "    }\n",
              "</style>\n",
              "<table border=\"1\" class=\"dataframe\">\n",
              "  <thead>\n",
              "    <tr style=\"text-align: right;\">\n",
              "      <th></th>\n",
              "      <th>PATIENT_ID</th>\n",
              "      <th>VISIT_ID</th>\n",
              "      <th>ADMISSION_DATE</th>\n",
              "      <th>DISCHARGE_DATE</th>\n",
              "      <th>CLINIC_CODE</th>\n",
              "      <th>BIRTHDATE</th>\n",
              "      <th>SEX</th>\n",
              "      <th>RACE</th>\n",
              "      <th>DATE_OF_DEATH</th>\n",
              "      <th>VISIT_ACTIVATION_DATE_TIME</th>\n",
              "      <th>DISCHARGE_TYPE</th>\n",
              "      <th>FACILITY</th>\n",
              "      <th>VISIT_STATUS</th>\n",
              "    </tr>\n",
              "  </thead>\n",
              "  <tbody>\n",
              "    <tr>\n",
              "      <th>0</th>\n",
              "      <td>819392</td>\n",
              "      <td>393056076</td>\n",
              "      <td>18-May-02</td>\n",
              "      <td>24-May-02</td>\n",
              "      <td>0.0</td>\n",
              "      <td>31-Aug-64</td>\n",
              "      <td>Female</td>\n",
              "      <td>White</td>\n",
              "      <td>10-Jul-15</td>\n",
              "      <td>18-May-02</td>\n",
              "      <td>discharge (routine)</td>\n",
              "      <td>Facility A</td>\n",
              "      <td>closed discharged</td>\n",
              "    </tr>\n",
              "    <tr>\n",
              "      <th>1</th>\n",
              "      <td>819392</td>\n",
              "      <td>1058555571</td>\n",
              "      <td>20-May-13</td>\n",
              "      <td>20-May-13</td>\n",
              "      <td>0.0</td>\n",
              "      <td>31-Aug-64</td>\n",
              "      <td>Female</td>\n",
              "      <td>White</td>\n",
              "      <td>10-Jul-15</td>\n",
              "      <td>20-May-13</td>\n",
              "      <td>discharge (routine)</td>\n",
              "      <td>Facility A</td>\n",
              "      <td>discharged</td>\n",
              "    </tr>\n",
              "    <tr>\n",
              "      <th>2</th>\n",
              "      <td>819392</td>\n",
              "      <td>1059883796</td>\n",
              "      <td>28-May-13</td>\n",
              "      <td>3-Jun-13</td>\n",
              "      <td>840.0</td>\n",
              "      <td>31-Aug-64</td>\n",
              "      <td>Female</td>\n",
              "      <td>White</td>\n",
              "      <td>10-Jul-15</td>\n",
              "      <td>28-May-13</td>\n",
              "      <td>routine</td>\n",
              "      <td>Facility A</td>\n",
              "      <td>discharged</td>\n",
              "    </tr>\n",
              "    <tr>\n",
              "      <th>3</th>\n",
              "      <td>819392</td>\n",
              "      <td>1063747314</td>\n",
              "      <td>18-Jun-13</td>\n",
              "      <td>18-Jun-13</td>\n",
              "      <td>840.0</td>\n",
              "      <td>31-Aug-64</td>\n",
              "      <td>Female</td>\n",
              "      <td>White</td>\n",
              "      <td>10-Jul-15</td>\n",
              "      <td>18-Jun-13</td>\n",
              "      <td>routine</td>\n",
              "      <td>Facility A</td>\n",
              "      <td>discharged</td>\n",
              "    </tr>\n",
              "    <tr>\n",
              "      <th>4</th>\n",
              "      <td>819392</td>\n",
              "      <td>1081404139</td>\n",
              "      <td>1-Oct-13</td>\n",
              "      <td>1-Oct-13</td>\n",
              "      <td>NaN</td>\n",
              "      <td>31-Aug-64</td>\n",
              "      <td>Female</td>\n",
              "      <td>White</td>\n",
              "      <td>10-Jul-15</td>\n",
              "      <td>30-Sep-13</td>\n",
              "      <td>discharge (routine)</td>\n",
              "      <td>Facility A</td>\n",
              "      <td>discharged</td>\n",
              "    </tr>\n",
              "  </tbody>\n",
              "</table>\n",
              "</div>\n",
              "      <button class=\"colab-df-convert\" onclick=\"convertToInteractive('df-6cdc4b01-0d7b-43f8-bbac-9c36969edb21')\"\n",
              "              title=\"Convert this dataframe to an interactive table.\"\n",
              "              style=\"display:none;\">\n",
              "        \n",
              "  <svg xmlns=\"http://www.w3.org/2000/svg\" height=\"24px\"viewBox=\"0 0 24 24\"\n",
              "       width=\"24px\">\n",
              "    <path d=\"M0 0h24v24H0V0z\" fill=\"none\"/>\n",
              "    <path d=\"M18.56 5.44l.94 2.06.94-2.06 2.06-.94-2.06-.94-.94-2.06-.94 2.06-2.06.94zm-11 1L8.5 8.5l.94-2.06 2.06-.94-2.06-.94L8.5 2.5l-.94 2.06-2.06.94zm10 10l.94 2.06.94-2.06 2.06-.94-2.06-.94-.94-2.06-.94 2.06-2.06.94z\"/><path d=\"M17.41 7.96l-1.37-1.37c-.4-.4-.92-.59-1.43-.59-.52 0-1.04.2-1.43.59L10.3 9.45l-7.72 7.72c-.78.78-.78 2.05 0 2.83L4 21.41c.39.39.9.59 1.41.59.51 0 1.02-.2 1.41-.59l7.78-7.78 2.81-2.81c.8-.78.8-2.07 0-2.86zM5.41 20L4 18.59l7.72-7.72 1.47 1.35L5.41 20z\"/>\n",
              "  </svg>\n",
              "      </button>\n",
              "      \n",
              "  <style>\n",
              "    .colab-df-container {\n",
              "      display:flex;\n",
              "      flex-wrap:wrap;\n",
              "      gap: 12px;\n",
              "    }\n",
              "\n",
              "    .colab-df-convert {\n",
              "      background-color: #E8F0FE;\n",
              "      border: none;\n",
              "      border-radius: 50%;\n",
              "      cursor: pointer;\n",
              "      display: none;\n",
              "      fill: #1967D2;\n",
              "      height: 32px;\n",
              "      padding: 0 0 0 0;\n",
              "      width: 32px;\n",
              "    }\n",
              "\n",
              "    .colab-df-convert:hover {\n",
              "      background-color: #E2EBFA;\n",
              "      box-shadow: 0px 1px 2px rgba(60, 64, 67, 0.3), 0px 1px 3px 1px rgba(60, 64, 67, 0.15);\n",
              "      fill: #174EA6;\n",
              "    }\n",
              "\n",
              "    [theme=dark] .colab-df-convert {\n",
              "      background-color: #3B4455;\n",
              "      fill: #D2E3FC;\n",
              "    }\n",
              "\n",
              "    [theme=dark] .colab-df-convert:hover {\n",
              "      background-color: #434B5C;\n",
              "      box-shadow: 0px 1px 3px 1px rgba(0, 0, 0, 0.15);\n",
              "      filter: drop-shadow(0px 1px 2px rgba(0, 0, 0, 0.3));\n",
              "      fill: #FFFFFF;\n",
              "    }\n",
              "  </style>\n",
              "\n",
              "      <script>\n",
              "        const buttonEl =\n",
              "          document.querySelector('#df-6cdc4b01-0d7b-43f8-bbac-9c36969edb21 button.colab-df-convert');\n",
              "        buttonEl.style.display =\n",
              "          google.colab.kernel.accessAllowed ? 'block' : 'none';\n",
              "\n",
              "        async function convertToInteractive(key) {\n",
              "          const element = document.querySelector('#df-6cdc4b01-0d7b-43f8-bbac-9c36969edb21');\n",
              "          const dataTable =\n",
              "            await google.colab.kernel.invokeFunction('convertToInteractive',\n",
              "                                                     [key], {});\n",
              "          if (!dataTable) return;\n",
              "\n",
              "          const docLinkHtml = 'Like what you see? Visit the ' +\n",
              "            '<a target=\"_blank\" href=https://colab.research.google.com/notebooks/data_table.ipynb>data table notebook</a>'\n",
              "            + ' to learn more about interactive tables.';\n",
              "          element.innerHTML = '';\n",
              "          dataTable['output_type'] = 'display_data';\n",
              "          await google.colab.output.renderOutput(dataTable, element);\n",
              "          const docLink = document.createElement('div');\n",
              "          docLink.innerHTML = docLinkHtml;\n",
              "          element.appendChild(docLink);\n",
              "        }\n",
              "      </script>\n",
              "    </div>\n",
              "  </div>\n",
              "  "
            ],
            "text/plain": [
              "   PATIENT_ID    VISIT_ID  ...    FACILITY       VISIT_STATUS\n",
              "0      819392   393056076  ...  Facility A  closed discharged\n",
              "1      819392  1058555571  ...  Facility A         discharged\n",
              "2      819392  1059883796  ...  Facility A         discharged\n",
              "3      819392  1063747314  ...  Facility A         discharged\n",
              "4      819392  1081404139  ...  Facility A         discharged\n",
              "\n",
              "[5 rows x 13 columns]"
            ]
          },
          "metadata": {},
          "execution_count": 7
        }
      ]
    },
    {
      "cell_type": "code",
      "source": [
        "df.iloc[19]\n",
        "# looking at a row of data"
      ],
      "metadata": {
        "colab": {
          "base_uri": "https://localhost:8080/"
        },
        "id": "Rg3X1HbkShv7",
        "outputId": "46714e5d-8e34-48b2-e692-f8258827eb4b"
      },
      "execution_count": null,
      "outputs": [
        {
          "output_type": "execute_result",
          "data": {
            "text/plain": [
              "PATIENT_ID                       2205504\n",
              "VISIT_ID                       407383468\n",
              "ADMISSION_DATE                 29-Aug-02\n",
              "DISCHARGE_DATE                 30-Aug-02\n",
              "CLINIC_CODE                          884\n",
              "BIRTHDATE                       4-Jul-82\n",
              "SEX                                 Male\n",
              "RACE                            Hispanic\n",
              "DATE_OF_DEATH                        NaN\n",
              "VISIT_ACTIVATION_DATE_TIME     29-Aug-02\n",
              "DISCHARGE_TYPE                   routine\n",
              "FACILITY                      Facility A\n",
              "VISIT_STATUS                  discharged\n",
              "Name: 19, dtype: object"
            ]
          },
          "metadata": {},
          "execution_count": 26
        }
      ]
    },
    {
      "cell_type": "code",
      "source": [
        "df.columns\n",
        "# looking at the column names"
      ],
      "metadata": {
        "colab": {
          "base_uri": "https://localhost:8080/"
        },
        "id": "87qBzgRkOSlq",
        "outputId": "c3391dc1-5ad3-4959-d453-d3c4772ef8ad"
      },
      "execution_count": null,
      "outputs": [
        {
          "output_type": "execute_result",
          "data": {
            "text/plain": [
              "Index(['PATIENT_ID', 'VISIT_ID', 'ADMISSION_DATE', 'DISCHARGE_DATE',\n",
              "       'CLINIC_CODE', 'BIRTHDATE', 'SEX', 'RACE', 'DATE_OF_DEATH',\n",
              "       'VISIT_ACTIVATION_DATE_TIME', 'DISCHARGE_TYPE', 'FACILITY',\n",
              "       'VISIT_STATUS'],\n",
              "      dtype='object')"
            ]
          },
          "metadata": {},
          "execution_count": 6
        }
      ]
    },
    {
      "cell_type": "code",
      "source": [
        "from numpy.ma.extras import unique\n",
        "x = [df[df['PATIENT_ID'] == unique]]"
      ],
      "metadata": {
        "colab": {
          "base_uri": "https://localhost:8080/"
        },
        "id": "_N4SFcjMOXG9",
        "outputId": "20f7f5ff-8940-4757-8a99-0c62d5f510ec"
      },
      "execution_count": null,
      "outputs": [
        {
          "output_type": "execute_result",
          "data": {
            "text/plain": [
              "<function list.count>"
            ]
          },
          "metadata": {},
          "execution_count": 10
        }
      ]
    },
    {
      "cell_type": "code",
      "source": [
        "list(set(df))"
      ],
      "metadata": {
        "colab": {
          "base_uri": "https://localhost:8080/"
        },
        "id": "KAHmosCCOhKV",
        "outputId": "ea050bdb-89f3-4e8e-c5ca-c35e85dea36f"
      },
      "execution_count": null,
      "outputs": [
        {
          "output_type": "execute_result",
          "data": {
            "text/plain": [
              "['BIRTHDATE',\n",
              " 'SEX',\n",
              " 'RACE',\n",
              " 'PATIENT_ID',\n",
              " 'VISIT_ACTIVATION_DATE_TIME',\n",
              " 'VISIT_STATUS',\n",
              " 'DATE_OF_DEATH',\n",
              " 'VISIT_ID',\n",
              " 'CLINIC_CODE',\n",
              " 'FACILITY',\n",
              " 'DISCHARGE_DATE',\n",
              " 'DISCHARGE_TYPE',\n",
              " 'ADMISSION_DATE']"
            ]
          },
          "metadata": {},
          "execution_count": 11
        }
      ]
    },
    {
      "cell_type": "markdown",
      "source": [
        "# Q2 Patients in dataset"
      ],
      "metadata": {
        "id": "QRGeBK8Y13FO"
      }
    },
    {
      "cell_type": "code",
      "source": [
        "print(df['PATIENT_ID'].value_counts())\n",
        "# SELECT COUNT (DISTINCT PATIENT_ID)\n",
        "# AS UNIQUE_ID\n",
        "# FROM PATIENT\n",
        "\n",
        "## There are 80 patients in the table\n",
        "## looking at unique patients "
      ],
      "metadata": {
        "colab": {
          "base_uri": "https://localhost:8080/"
        },
        "id": "pw6V7KSLP_pU",
        "outputId": "c9fbe362-f140-491a-86be-94105dcdf436"
      },
      "execution_count": null,
      "outputs": [
        {
          "output_type": "stream",
          "name": "stdout",
          "text": [
            "37026752    922\n",
            "52263456    679\n",
            "56819168    547\n",
            "35764288    460\n",
            "12137440    448\n",
            "           ... \n",
            "62105792      3\n",
            "9075808       3\n",
            "66174752      2\n",
            "46070080      2\n",
            "12728352      1\n",
            "Name: PATIENT_ID, Length: 80, dtype: int64\n"
          ]
        }
      ]
    },
    {
      "cell_type": "markdown",
      "source": [
        "# Q3 Patients that died"
      ],
      "metadata": {
        "id": "cDMOLPTh2M91"
      }
    },
    {
      "cell_type": "code",
      "source": [
        "patients_dead = df[df['DATE_OF_DEATH'].notnull()]\n",
        "print(df['DATE_OF_DEATH'].value_counts())\n",
        "# filtered for only unique values"
      ],
      "metadata": {
        "colab": {
          "base_uri": "https://localhost:8080/"
        },
        "id": "ab-pIi8EQe2p",
        "outputId": "4f1b2af9-82cc-4d41-bb27-cc30d6c50df1"
      },
      "execution_count": null,
      "outputs": [
        {
          "output_type": "stream",
          "name": "stdout",
          "text": [
            "2015-02-25    205\n",
            "2015-07-02     94\n",
            "2015-07-10     17\n",
            "2015-09-17     16\n",
            "Name: DATE_OF_DEATH, dtype: int64\n"
          ]
        }
      ]
    },
    {
      "cell_type": "code",
      "source": [
        "patients_dead.count\n",
        "# SELECT COUNT(DATE_OF_DEATH)\n",
        "# FROM PATIENT\n",
        "# WHERE DATE_OF_DEATH IS NOT NULL\n",
        "\n",
        "## There are 4 deaths in the table\n",
        "## looking at all values "
      ],
      "metadata": {
        "colab": {
          "base_uri": "https://localhost:8080/"
        },
        "id": "1M5UQk_qYONZ",
        "outputId": "6109ffa3-6a98-440f-c788-fe3ef72fe907"
      },
      "execution_count": null,
      "outputs": [
        {
          "output_type": "execute_result",
          "data": {
            "text/plain": [
              "<bound method DataFrame.count of       PATIENT_ID    VISIT_ID  ...    FACILITY       VISIT_STATUS\n",
              "0         819392   393056076  ...  Facility A  closed discharged\n",
              "1         819392  1058555571  ...  Facility A         discharged\n",
              "2         819392  1059883796  ...  Facility A         discharged\n",
              "3         819392  1063747314  ...  Facility A         discharged\n",
              "4         819392  1081404139  ...  Facility A         discharged\n",
              "...          ...         ...  ...         ...                ...\n",
              "3509    30172352  1166088673  ...  Facility A         discharged\n",
              "3510    30172352  1192919805  ...  Facility A         discharged\n",
              "3511    30172352  1192956705  ...  Facility A         discharged\n",
              "3512    30172352  1196306346  ...  Facility A         discharged\n",
              "3513    30172352  1198522104  ...  Facility A         discharged\n",
              "\n",
              "[332 rows x 13 columns]>"
            ]
          },
          "metadata": {},
          "execution_count": 116
        }
      ]
    },
    {
      "cell_type": "markdown",
      "source": [
        "# Q4 Merging data"
      ],
      "metadata": {
        "id": "yqWzUcLf2W_T"
      }
    },
    {
      "cell_type": "code",
      "source": [
        "df2 = pd.read_csv('/content/Test_DataCore_VitalStats.csv')\n",
        "\n",
        "# CREATE TABLE ADDITIONAL_PATIENT_DATA (\n",
        "#     PATIENT_ID INT,\n",
        "#     DATE_OF_DEATH DATE)\n",
        "#\n",
        "# COPY ADDITION_PATIENT_DATA (PATIENT_ID, DATE_OF_DEATH)\n",
        "# FROM 'C:/MIKE C/DOWNLOADS/TestDatacore.csv' CSV\n",
        "# DELIMITER ',' HEADER PATIENT DATA\n",
        "\n",
        "## importing the next table"
      ],
      "metadata": {
        "id": "LApzs0uVYTlA"
      },
      "execution_count": 47,
      "outputs": []
    },
    {
      "cell_type": "code",
      "source": [
        "df2.head(5)\n",
        "# looking at the top 5 results"
      ],
      "metadata": {
        "colab": {
          "base_uri": "https://localhost:8080/",
          "height": 206
        },
        "id": "GIFKW1nWbHf5",
        "outputId": "84fcd9c2-4542-4eb6-b4a3-84e0b67de1ec"
      },
      "execution_count": 48,
      "outputs": [
        {
          "output_type": "execute_result",
          "data": {
            "text/html": [
              "\n",
              "  <div id=\"df-810c9071-a9be-47d9-8dfc-c1b7b2d03032\">\n",
              "    <div class=\"colab-df-container\">\n",
              "      <div>\n",
              "<style scoped>\n",
              "    .dataframe tbody tr th:only-of-type {\n",
              "        vertical-align: middle;\n",
              "    }\n",
              "\n",
              "    .dataframe tbody tr th {\n",
              "        vertical-align: top;\n",
              "    }\n",
              "\n",
              "    .dataframe thead th {\n",
              "        text-align: right;\n",
              "    }\n",
              "</style>\n",
              "<table border=\"1\" class=\"dataframe\">\n",
              "  <thead>\n",
              "    <tr style=\"text-align: right;\">\n",
              "      <th></th>\n",
              "      <th>PATIENT_ID</th>\n",
              "      <th>DATE_OF_DEATH</th>\n",
              "    </tr>\n",
              "  </thead>\n",
              "  <tbody>\n",
              "    <tr>\n",
              "      <th>0</th>\n",
              "      <td>819392</td>\n",
              "      <td>10JUL2015</td>\n",
              "    </tr>\n",
              "    <tr>\n",
              "      <th>1</th>\n",
              "      <td>15150240</td>\n",
              "      <td>15NOV2015</td>\n",
              "    </tr>\n",
              "    <tr>\n",
              "      <th>2</th>\n",
              "      <td>28438144</td>\n",
              "      <td>02JUL2015</td>\n",
              "    </tr>\n",
              "    <tr>\n",
              "      <th>3</th>\n",
              "      <td>28653184</td>\n",
              "      <td>30OCT2015</td>\n",
              "    </tr>\n",
              "    <tr>\n",
              "      <th>4</th>\n",
              "      <td>30041536</td>\n",
              "      <td>25FEB2015</td>\n",
              "    </tr>\n",
              "  </tbody>\n",
              "</table>\n",
              "</div>\n",
              "      <button class=\"colab-df-convert\" onclick=\"convertToInteractive('df-810c9071-a9be-47d9-8dfc-c1b7b2d03032')\"\n",
              "              title=\"Convert this dataframe to an interactive table.\"\n",
              "              style=\"display:none;\">\n",
              "        \n",
              "  <svg xmlns=\"http://www.w3.org/2000/svg\" height=\"24px\"viewBox=\"0 0 24 24\"\n",
              "       width=\"24px\">\n",
              "    <path d=\"M0 0h24v24H0V0z\" fill=\"none\"/>\n",
              "    <path d=\"M18.56 5.44l.94 2.06.94-2.06 2.06-.94-2.06-.94-.94-2.06-.94 2.06-2.06.94zm-11 1L8.5 8.5l.94-2.06 2.06-.94-2.06-.94L8.5 2.5l-.94 2.06-2.06.94zm10 10l.94 2.06.94-2.06 2.06-.94-2.06-.94-.94-2.06-.94 2.06-2.06.94z\"/><path d=\"M17.41 7.96l-1.37-1.37c-.4-.4-.92-.59-1.43-.59-.52 0-1.04.2-1.43.59L10.3 9.45l-7.72 7.72c-.78.78-.78 2.05 0 2.83L4 21.41c.39.39.9.59 1.41.59.51 0 1.02-.2 1.41-.59l7.78-7.78 2.81-2.81c.8-.78.8-2.07 0-2.86zM5.41 20L4 18.59l7.72-7.72 1.47 1.35L5.41 20z\"/>\n",
              "  </svg>\n",
              "      </button>\n",
              "      \n",
              "  <style>\n",
              "    .colab-df-container {\n",
              "      display:flex;\n",
              "      flex-wrap:wrap;\n",
              "      gap: 12px;\n",
              "    }\n",
              "\n",
              "    .colab-df-convert {\n",
              "      background-color: #E8F0FE;\n",
              "      border: none;\n",
              "      border-radius: 50%;\n",
              "      cursor: pointer;\n",
              "      display: none;\n",
              "      fill: #1967D2;\n",
              "      height: 32px;\n",
              "      padding: 0 0 0 0;\n",
              "      width: 32px;\n",
              "    }\n",
              "\n",
              "    .colab-df-convert:hover {\n",
              "      background-color: #E2EBFA;\n",
              "      box-shadow: 0px 1px 2px rgba(60, 64, 67, 0.3), 0px 1px 3px 1px rgba(60, 64, 67, 0.15);\n",
              "      fill: #174EA6;\n",
              "    }\n",
              "\n",
              "    [theme=dark] .colab-df-convert {\n",
              "      background-color: #3B4455;\n",
              "      fill: #D2E3FC;\n",
              "    }\n",
              "\n",
              "    [theme=dark] .colab-df-convert:hover {\n",
              "      background-color: #434B5C;\n",
              "      box-shadow: 0px 1px 3px 1px rgba(0, 0, 0, 0.15);\n",
              "      filter: drop-shadow(0px 1px 2px rgba(0, 0, 0, 0.3));\n",
              "      fill: #FFFFFF;\n",
              "    }\n",
              "  </style>\n",
              "\n",
              "      <script>\n",
              "        const buttonEl =\n",
              "          document.querySelector('#df-810c9071-a9be-47d9-8dfc-c1b7b2d03032 button.colab-df-convert');\n",
              "        buttonEl.style.display =\n",
              "          google.colab.kernel.accessAllowed ? 'block' : 'none';\n",
              "\n",
              "        async function convertToInteractive(key) {\n",
              "          const element = document.querySelector('#df-810c9071-a9be-47d9-8dfc-c1b7b2d03032');\n",
              "          const dataTable =\n",
              "            await google.colab.kernel.invokeFunction('convertToInteractive',\n",
              "                                                     [key], {});\n",
              "          if (!dataTable) return;\n",
              "\n",
              "          const docLinkHtml = 'Like what you see? Visit the ' +\n",
              "            '<a target=\"_blank\" href=https://colab.research.google.com/notebooks/data_table.ipynb>data table notebook</a>'\n",
              "            + ' to learn more about interactive tables.';\n",
              "          element.innerHTML = '';\n",
              "          dataTable['output_type'] = 'display_data';\n",
              "          await google.colab.output.renderOutput(dataTable, element);\n",
              "          const docLink = document.createElement('div');\n",
              "          docLink.innerHTML = docLinkHtml;\n",
              "          element.appendChild(docLink);\n",
              "        }\n",
              "      </script>\n",
              "    </div>\n",
              "  </div>\n",
              "  "
            ],
            "text/plain": [
              "   PATIENT_ID DATE_OF_DEATH\n",
              "0      819392     10JUL2015\n",
              "1    15150240     15NOV2015\n",
              "2    28438144     02JUL2015\n",
              "3    28653184     30OCT2015\n",
              "4    30041536     25FEB2015"
            ]
          },
          "metadata": {},
          "execution_count": 48
        }
      ]
    },
    {
      "cell_type": "code",
      "source": [
        "df3 = pd.concat([df,df2], axis=0)\n",
        "# SELECT PATIENT_ID, DATE_OF_DEATH\n",
        "# FROM PATIENT\n",
        "# FULL JOIN PATIENT_DEATH_DATES\n",
        "# ON PATIENT.PATIENT_ID = PATIENT_DEAT_DATES.PATIENT_ID\n",
        "\n",
        "## JOINING TABLES"
      ],
      "metadata": {
        "id": "LsXYTuTrbLph"
      },
      "execution_count": 49,
      "outputs": []
    },
    {
      "cell_type": "code",
      "source": [
        "df3\n",
        "# looking at the new combined datasheet"
      ],
      "metadata": {
        "colab": {
          "base_uri": "https://localhost:8080/",
          "height": 539
        },
        "id": "DMJTe1GHe2HE",
        "outputId": "ac53b154-09b4-4ab0-ff7b-27a1f2fcb13d"
      },
      "execution_count": 50,
      "outputs": [
        {
          "output_type": "execute_result",
          "data": {
            "text/html": [
              "\n",
              "  <div id=\"df-43d77d5d-ebb1-4950-8dfa-5e7fec1f4509\">\n",
              "    <div class=\"colab-df-container\">\n",
              "      <div>\n",
              "<style scoped>\n",
              "    .dataframe tbody tr th:only-of-type {\n",
              "        vertical-align: middle;\n",
              "    }\n",
              "\n",
              "    .dataframe tbody tr th {\n",
              "        vertical-align: top;\n",
              "    }\n",
              "\n",
              "    .dataframe thead th {\n",
              "        text-align: right;\n",
              "    }\n",
              "</style>\n",
              "<table border=\"1\" class=\"dataframe\">\n",
              "  <thead>\n",
              "    <tr style=\"text-align: right;\">\n",
              "      <th></th>\n",
              "      <th>PATIENT_ID</th>\n",
              "      <th>VISIT_ID</th>\n",
              "      <th>ADMISSION_DATE</th>\n",
              "      <th>DISCHARGE_DATE</th>\n",
              "      <th>CLINIC_CODE</th>\n",
              "      <th>BIRTHDATE</th>\n",
              "      <th>SEX</th>\n",
              "      <th>RACE</th>\n",
              "      <th>DATE_OF_DEATH</th>\n",
              "      <th>VISIT_ACTIVATION_DATE_TIME</th>\n",
              "      <th>DISCHARGE_TYPE</th>\n",
              "      <th>FACILITY</th>\n",
              "      <th>VISIT_STATUS</th>\n",
              "    </tr>\n",
              "  </thead>\n",
              "  <tbody>\n",
              "    <tr>\n",
              "      <th>0</th>\n",
              "      <td>819392</td>\n",
              "      <td>3.930561e+08</td>\n",
              "      <td>18-May-02</td>\n",
              "      <td>24-May-02</td>\n",
              "      <td>0.0</td>\n",
              "      <td>31-Aug-64</td>\n",
              "      <td>Female</td>\n",
              "      <td>White</td>\n",
              "      <td>10-Jul-15</td>\n",
              "      <td>2002-05-18</td>\n",
              "      <td>discharge (routine)</td>\n",
              "      <td>Facility A</td>\n",
              "      <td>closed discharged</td>\n",
              "    </tr>\n",
              "    <tr>\n",
              "      <th>1</th>\n",
              "      <td>819392</td>\n",
              "      <td>1.058556e+09</td>\n",
              "      <td>20-May-13</td>\n",
              "      <td>20-May-13</td>\n",
              "      <td>0.0</td>\n",
              "      <td>31-Aug-64</td>\n",
              "      <td>Female</td>\n",
              "      <td>White</td>\n",
              "      <td>10-Jul-15</td>\n",
              "      <td>2013-05-20</td>\n",
              "      <td>discharge (routine)</td>\n",
              "      <td>Facility A</td>\n",
              "      <td>discharged</td>\n",
              "    </tr>\n",
              "    <tr>\n",
              "      <th>2</th>\n",
              "      <td>819392</td>\n",
              "      <td>1.059884e+09</td>\n",
              "      <td>28-May-13</td>\n",
              "      <td>3-Jun-13</td>\n",
              "      <td>840.0</td>\n",
              "      <td>31-Aug-64</td>\n",
              "      <td>Female</td>\n",
              "      <td>White</td>\n",
              "      <td>10-Jul-15</td>\n",
              "      <td>2013-05-28</td>\n",
              "      <td>routine</td>\n",
              "      <td>Facility A</td>\n",
              "      <td>discharged</td>\n",
              "    </tr>\n",
              "    <tr>\n",
              "      <th>3</th>\n",
              "      <td>819392</td>\n",
              "      <td>1.063747e+09</td>\n",
              "      <td>18-Jun-13</td>\n",
              "      <td>18-Jun-13</td>\n",
              "      <td>840.0</td>\n",
              "      <td>31-Aug-64</td>\n",
              "      <td>Female</td>\n",
              "      <td>White</td>\n",
              "      <td>10-Jul-15</td>\n",
              "      <td>2013-06-18</td>\n",
              "      <td>routine</td>\n",
              "      <td>Facility A</td>\n",
              "      <td>discharged</td>\n",
              "    </tr>\n",
              "    <tr>\n",
              "      <th>4</th>\n",
              "      <td>819392</td>\n",
              "      <td>1.081404e+09</td>\n",
              "      <td>1-Oct-13</td>\n",
              "      <td>1-Oct-13</td>\n",
              "      <td>NaN</td>\n",
              "      <td>31-Aug-64</td>\n",
              "      <td>Female</td>\n",
              "      <td>White</td>\n",
              "      <td>10-Jul-15</td>\n",
              "      <td>2013-09-30</td>\n",
              "      <td>discharge (routine)</td>\n",
              "      <td>Facility A</td>\n",
              "      <td>discharged</td>\n",
              "    </tr>\n",
              "    <tr>\n",
              "      <th>...</th>\n",
              "      <td>...</td>\n",
              "      <td>...</td>\n",
              "      <td>...</td>\n",
              "      <td>...</td>\n",
              "      <td>...</td>\n",
              "      <td>...</td>\n",
              "      <td>...</td>\n",
              "      <td>...</td>\n",
              "      <td>...</td>\n",
              "      <td>...</td>\n",
              "      <td>...</td>\n",
              "      <td>...</td>\n",
              "      <td>...</td>\n",
              "    </tr>\n",
              "    <tr>\n",
              "      <th>93</th>\n",
              "      <td>85254400</td>\n",
              "      <td>NaN</td>\n",
              "      <td>NaN</td>\n",
              "      <td>NaN</td>\n",
              "      <td>NaN</td>\n",
              "      <td>NaN</td>\n",
              "      <td>NaN</td>\n",
              "      <td>NaN</td>\n",
              "      <td>08OCT2014</td>\n",
              "      <td>NaT</td>\n",
              "      <td>NaN</td>\n",
              "      <td>NaN</td>\n",
              "      <td>NaN</td>\n",
              "    </tr>\n",
              "    <tr>\n",
              "      <th>94</th>\n",
              "      <td>85384320</td>\n",
              "      <td>NaN</td>\n",
              "      <td>NaN</td>\n",
              "      <td>NaN</td>\n",
              "      <td>NaN</td>\n",
              "      <td>NaN</td>\n",
              "      <td>NaN</td>\n",
              "      <td>NaN</td>\n",
              "      <td>18DEC2014</td>\n",
              "      <td>NaT</td>\n",
              "      <td>NaN</td>\n",
              "      <td>NaN</td>\n",
              "      <td>NaN</td>\n",
              "    </tr>\n",
              "    <tr>\n",
              "      <th>95</th>\n",
              "      <td>85620416</td>\n",
              "      <td>NaN</td>\n",
              "      <td>NaN</td>\n",
              "      <td>NaN</td>\n",
              "      <td>NaN</td>\n",
              "      <td>NaN</td>\n",
              "      <td>NaN</td>\n",
              "      <td>NaN</td>\n",
              "      <td>20OCT2015</td>\n",
              "      <td>NaT</td>\n",
              "      <td>NaN</td>\n",
              "      <td>NaN</td>\n",
              "      <td>NaN</td>\n",
              "    </tr>\n",
              "    <tr>\n",
              "      <th>96</th>\n",
              "      <td>86567936</td>\n",
              "      <td>NaN</td>\n",
              "      <td>NaN</td>\n",
              "      <td>NaN</td>\n",
              "      <td>NaN</td>\n",
              "      <td>NaN</td>\n",
              "      <td>NaN</td>\n",
              "      <td>NaN</td>\n",
              "      <td>24SEP2015</td>\n",
              "      <td>NaT</td>\n",
              "      <td>NaN</td>\n",
              "      <td>NaN</td>\n",
              "      <td>NaN</td>\n",
              "    </tr>\n",
              "    <tr>\n",
              "      <th>97</th>\n",
              "      <td>86708832</td>\n",
              "      <td>NaN</td>\n",
              "      <td>NaN</td>\n",
              "      <td>NaN</td>\n",
              "      <td>NaN</td>\n",
              "      <td>NaN</td>\n",
              "      <td>NaN</td>\n",
              "      <td>NaN</td>\n",
              "      <td>09FEB2005</td>\n",
              "      <td>NaT</td>\n",
              "      <td>NaN</td>\n",
              "      <td>NaN</td>\n",
              "      <td>NaN</td>\n",
              "    </tr>\n",
              "  </tbody>\n",
              "</table>\n",
              "<p>10098 rows × 13 columns</p>\n",
              "</div>\n",
              "      <button class=\"colab-df-convert\" onclick=\"convertToInteractive('df-43d77d5d-ebb1-4950-8dfa-5e7fec1f4509')\"\n",
              "              title=\"Convert this dataframe to an interactive table.\"\n",
              "              style=\"display:none;\">\n",
              "        \n",
              "  <svg xmlns=\"http://www.w3.org/2000/svg\" height=\"24px\"viewBox=\"0 0 24 24\"\n",
              "       width=\"24px\">\n",
              "    <path d=\"M0 0h24v24H0V0z\" fill=\"none\"/>\n",
              "    <path d=\"M18.56 5.44l.94 2.06.94-2.06 2.06-.94-2.06-.94-.94-2.06-.94 2.06-2.06.94zm-11 1L8.5 8.5l.94-2.06 2.06-.94-2.06-.94L8.5 2.5l-.94 2.06-2.06.94zm10 10l.94 2.06.94-2.06 2.06-.94-2.06-.94-.94-2.06-.94 2.06-2.06.94z\"/><path d=\"M17.41 7.96l-1.37-1.37c-.4-.4-.92-.59-1.43-.59-.52 0-1.04.2-1.43.59L10.3 9.45l-7.72 7.72c-.78.78-.78 2.05 0 2.83L4 21.41c.39.39.9.59 1.41.59.51 0 1.02-.2 1.41-.59l7.78-7.78 2.81-2.81c.8-.78.8-2.07 0-2.86zM5.41 20L4 18.59l7.72-7.72 1.47 1.35L5.41 20z\"/>\n",
              "  </svg>\n",
              "      </button>\n",
              "      \n",
              "  <style>\n",
              "    .colab-df-container {\n",
              "      display:flex;\n",
              "      flex-wrap:wrap;\n",
              "      gap: 12px;\n",
              "    }\n",
              "\n",
              "    .colab-df-convert {\n",
              "      background-color: #E8F0FE;\n",
              "      border: none;\n",
              "      border-radius: 50%;\n",
              "      cursor: pointer;\n",
              "      display: none;\n",
              "      fill: #1967D2;\n",
              "      height: 32px;\n",
              "      padding: 0 0 0 0;\n",
              "      width: 32px;\n",
              "    }\n",
              "\n",
              "    .colab-df-convert:hover {\n",
              "      background-color: #E2EBFA;\n",
              "      box-shadow: 0px 1px 2px rgba(60, 64, 67, 0.3), 0px 1px 3px 1px rgba(60, 64, 67, 0.15);\n",
              "      fill: #174EA6;\n",
              "    }\n",
              "\n",
              "    [theme=dark] .colab-df-convert {\n",
              "      background-color: #3B4455;\n",
              "      fill: #D2E3FC;\n",
              "    }\n",
              "\n",
              "    [theme=dark] .colab-df-convert:hover {\n",
              "      background-color: #434B5C;\n",
              "      box-shadow: 0px 1px 3px 1px rgba(0, 0, 0, 0.15);\n",
              "      filter: drop-shadow(0px 1px 2px rgba(0, 0, 0, 0.3));\n",
              "      fill: #FFFFFF;\n",
              "    }\n",
              "  </style>\n",
              "\n",
              "      <script>\n",
              "        const buttonEl =\n",
              "          document.querySelector('#df-43d77d5d-ebb1-4950-8dfa-5e7fec1f4509 button.colab-df-convert');\n",
              "        buttonEl.style.display =\n",
              "          google.colab.kernel.accessAllowed ? 'block' : 'none';\n",
              "\n",
              "        async function convertToInteractive(key) {\n",
              "          const element = document.querySelector('#df-43d77d5d-ebb1-4950-8dfa-5e7fec1f4509');\n",
              "          const dataTable =\n",
              "            await google.colab.kernel.invokeFunction('convertToInteractive',\n",
              "                                                     [key], {});\n",
              "          if (!dataTable) return;\n",
              "\n",
              "          const docLinkHtml = 'Like what you see? Visit the ' +\n",
              "            '<a target=\"_blank\" href=https://colab.research.google.com/notebooks/data_table.ipynb>data table notebook</a>'\n",
              "            + ' to learn more about interactive tables.';\n",
              "          element.innerHTML = '';\n",
              "          dataTable['output_type'] = 'display_data';\n",
              "          await google.colab.output.renderOutput(dataTable, element);\n",
              "          const docLink = document.createElement('div');\n",
              "          docLink.innerHTML = docLinkHtml;\n",
              "          element.appendChild(docLink);\n",
              "        }\n",
              "      </script>\n",
              "    </div>\n",
              "  </div>\n",
              "  "
            ],
            "text/plain": [
              "    PATIENT_ID      VISIT_ID  ...    FACILITY       VISIT_STATUS\n",
              "0       819392  3.930561e+08  ...  Facility A  closed discharged\n",
              "1       819392  1.058556e+09  ...  Facility A         discharged\n",
              "2       819392  1.059884e+09  ...  Facility A         discharged\n",
              "3       819392  1.063747e+09  ...  Facility A         discharged\n",
              "4       819392  1.081404e+09  ...  Facility A         discharged\n",
              "..         ...           ...  ...         ...                ...\n",
              "93    85254400           NaN  ...         NaN                NaN\n",
              "94    85384320           NaN  ...         NaN                NaN\n",
              "95    85620416           NaN  ...         NaN                NaN\n",
              "96    86567936           NaN  ...         NaN                NaN\n",
              "97    86708832           NaN  ...         NaN                NaN\n",
              "\n",
              "[10098 rows x 13 columns]"
            ]
          },
          "metadata": {},
          "execution_count": 50
        }
      ]
    },
    {
      "cell_type": "code",
      "source": [
        "patients_dead_updated = df3[df3['DATE_OF_DEATH'].notnull()]\n",
        "print(df3['DATE_OF_DEATH'].value_counts())\n",
        "# SELECT PATIENT_ID, DATE_OF_DEATH\n",
        "# FROM PATIENT\n",
        "# FULL JOIN PATIENT_DEATH_DATES\n",
        "# ON PATIENT.PATIENT_ID = PATIENT_DEAT_DATES.PATIENT_ID\n",
        "\n",
        "# filtering for patients that died with updated data"
      ],
      "metadata": {
        "colab": {
          "base_uri": "https://localhost:8080/"
        },
        "id": "VhG9tnfDed5j",
        "outputId": "6ba0c11a-4ff9-4e22-d05d-9d1bd9992bbc"
      },
      "execution_count": 51,
      "outputs": [
        {
          "output_type": "stream",
          "name": "stdout",
          "text": [
            "25-Feb-15    205\n",
            "2-Jul-15      94\n",
            "10-Jul-15     17\n",
            "17-Sep-15     16\n",
            "27OCT2015      6\n",
            "            ... \n",
            "04FEB2015      1\n",
            "15NOV2015      1\n",
            "18AUG2015      1\n",
            "29JUL2015      1\n",
            "22FEB2015      1\n",
            "Name: DATE_OF_DEATH, Length: 79, dtype: int64\n"
          ]
        }
      ]
    },
    {
      "cell_type": "code",
      "source": [
        ""
      ],
      "metadata": {
        "id": "dNKcKGNvMK9J"
      },
      "execution_count": 51,
      "outputs": []
    },
    {
      "cell_type": "code",
      "source": [
        "df3['DATE_OF_DEATH'] = pd.to_datetime(df['DATE_OF_DEATH'])\n",
        "# converting data types"
      ],
      "metadata": {
        "id": "1ZVGmTFANXDH"
      },
      "execution_count": 52,
      "outputs": []
    },
    {
      "cell_type": "markdown",
      "source": [
        "# Q5 How long between last visit and death"
      ],
      "metadata": {
        "id": "gIgoPQ0Q2hRb"
      }
    },
    {
      "cell_type": "code",
      "source": [
        "df.dtypes\n",
        "# checking data types some might need to be converted"
      ],
      "metadata": {
        "colab": {
          "base_uri": "https://localhost:8080/"
        },
        "id": "-riLMJuFw2SB",
        "outputId": "80b22450-761a-4547-b0af-3c2b9f6acd8c"
      },
      "execution_count": 42,
      "outputs": [
        {
          "output_type": "execute_result",
          "data": {
            "text/plain": [
              "PATIENT_ID                             int64\n",
              "VISIT_ID                               int64\n",
              "ADMISSION_DATE                        object\n",
              "DISCHARGE_DATE                        object\n",
              "CLINIC_CODE                          float64\n",
              "BIRTHDATE                             object\n",
              "SEX                                   object\n",
              "RACE                                  object\n",
              "DATE_OF_DEATH                         object\n",
              "VISIT_ACTIVATION_DATE_TIME    datetime64[ns]\n",
              "DISCHARGE_TYPE                        object\n",
              "FACILITY                              object\n",
              "VISIT_STATUS                          object\n",
              "dtype: object"
            ]
          },
          "metadata": {},
          "execution_count": 42
        }
      ]
    },
    {
      "cell_type": "code",
      "source": [
        "import datetime as dt\n",
        "diff = (pd.to_datetime(df3.DATE_OF_DEATH) - pd.to_datetime(df3.VISIT_ACTIVATION_DATE_TIME)).dt.days\n",
        "diff\n",
        "#SELECT DATEDIFF('DATE_OF_DEATH', 'VISIT_ACTIVATION_DATE_TIME') AS days_between"
      ],
      "metadata": {
        "colab": {
          "base_uri": "https://localhost:8080/"
        },
        "id": "uHV0pScMl6LR",
        "outputId": "6e60c83d-5ecf-406d-ac54-a80aab59b923"
      },
      "execution_count": 57,
      "outputs": [
        {
          "output_type": "execute_result",
          "data": {
            "text/plain": [
              "0     4801.0\n",
              "1      781.0\n",
              "2      773.0\n",
              "3      752.0\n",
              "4      648.0\n",
              "       ...  \n",
              "93       NaN\n",
              "94       NaN\n",
              "95       NaN\n",
              "96       NaN\n",
              "97       NaN\n",
              "Length: 10098, dtype: float64"
            ]
          },
          "metadata": {},
          "execution_count": 57
        }
      ]
    },
    {
      "cell_type": "markdown",
      "source": [
        "# Q6 Distrabution of races"
      ],
      "metadata": {
        "id": "cJvXoaIt2y77"
      }
    },
    {
      "cell_type": "code",
      "source": [
        "df['RACE'].value_counts(normalize=True) * 100\n",
        "# SELECT (COUNT RACE)\n",
        "# FROM PATIENT\n",
        "# ORDER COUNT RACE DESC"
      ],
      "metadata": {
        "colab": {
          "base_uri": "https://localhost:8080/"
        },
        "id": "wgOELriRe8tJ",
        "outputId": "f74bb722-87c4-4d17-874f-5a40123d9c97"
      },
      "execution_count": null,
      "outputs": [
        {
          "output_type": "execute_result",
          "data": {
            "text/plain": [
              "Black or African American            61.81\n",
              "Hispanic                             32.95\n",
              "Other                                 2.61\n",
              "White                                 1.65\n",
              "American Indian or Alaskan Native     0.85\n",
              "Unknown                               0.13\n",
              "Name: RACE, dtype: float64"
            ]
          },
          "metadata": {},
          "execution_count": 96
        }
      ]
    }
  ]
}